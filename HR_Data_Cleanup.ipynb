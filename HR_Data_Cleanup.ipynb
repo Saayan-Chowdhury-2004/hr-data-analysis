{
 "cells": [
  {
   "cell_type": "markdown",
   "id": "2f916402",
   "metadata": {},
   "source": [
    "# Cleaning Employee Data with Custom Parsing"
   ]
  },
  {
   "cell_type": "code",
   "execution_count": 18,
   "id": "0405381d",
   "metadata": {},
   "outputs": [],
   "source": [
    "import pandas as pd\n",
    "import numpy as np\n",
    "import re"
   ]
  },
  {
   "cell_type": "markdown",
   "id": "fa4664f6",
   "metadata": {},
   "source": [
    "## Step 1: Load raw data"
   ]
  },
  {
   "cell_type": "code",
   "execution_count": 19,
   "id": "89eda3ef",
   "metadata": {},
   "outputs": [],
   "source": [
    "df = pd.read_csv(\"employee_data.csv\")"
   ]
  },
  {
   "cell_type": "markdown",
   "id": "76fe2599",
   "metadata": {},
   "source": [
    "## Step 2: Replace all corrupted characters"
   ]
  },
  {
   "cell_type": "code",
   "execution_count": 20,
   "id": "bab4345a",
   "metadata": {},
   "outputs": [],
   "source": [
    "df.replace(to_replace=r'\\+AC0-', value='-', regex=True, inplace=True)\n",
    "df.replace(to_replace=r'\\+ACO-', value='-', regex=True, inplace=True)"
   ]
  },
  {
   "cell_type": "markdown",
   "id": "152d55f5",
   "metadata": {},
   "source": [
    "## Step 3: Define a custom parser for corrupted dates"
   ]
  },
  {
   "cell_type": "code",
   "execution_count": 21,
   "id": "0a0b5dd2",
   "metadata": {},
   "outputs": [],
   "source": [
    "def parse_date(date_str):\n",
    "    try:\n",
    "        if isinstance(date_str, str):\n",
    "            date_str = date_str.replace(\"+AC0-\", \"-\").replace(\"+ACO-\", \"-\")\n",
    "            date_str = re.sub(r\"[^\\w\\-]\", \"\", date_str)  # removing the remaining junk\n",
    "            for fmt in (\"%Y-%m-%d\", \"%d-%b-%y\", \"%d-%m-%Y\"):\n",
    "                try:\n",
    "                    return pd.to_datetime(date_str, format=fmt)\n",
    "                except:\n",
    "                    continue\n",
    "        return pd.NaT\n",
    "    except:\n",
    "        return pd.NaT"
   ]
  },
  {
   "cell_type": "markdown",
   "id": "d4ab1b48",
   "metadata": {},
   "source": [
    "## Step 4: Apply parser to date columns"
   ]
  },
  {
   "cell_type": "code",
   "execution_count": 22,
   "id": "9f5cb83a",
   "metadata": {},
   "outputs": [],
   "source": [
    "for col in ['StartDate', 'ExitDate', 'DOB']:\n",
    "    df[col] = df[col].apply(parse_date)"
   ]
  },
  {
   "cell_type": "markdown",
   "id": "a8dedef4",
   "metadata": {},
   "source": [
    "## Step 5: Convert numeric columns safely"
   ]
  },
  {
   "cell_type": "code",
   "execution_count": 23,
   "id": "edc01b46",
   "metadata": {},
   "outputs": [],
   "source": [
    "for col in ['Age', 'Experience', 'Salary']:\n",
    "    df[col] = pd.to_numeric(df[col], errors='coerce')"
   ]
  },
  {
   "cell_type": "markdown",
   "id": "89b93344",
   "metadata": {},
   "source": [
    "## Step 6: Drop rows missing essential fields"
   ]
  },
  {
   "cell_type": "code",
   "execution_count": 27,
   "id": "4a12f12e",
   "metadata": {},
   "outputs": [],
   "source": [
    "df.dropna(subset=['StartDate', 'Age', 'Salary'], inplace=True)\n",
    "df[\"ExitDate\"] = df[\"ExitDate\"].fillna(\"Still Working\")"
   ]
  },
  {
   "cell_type": "markdown",
   "id": "420d20d6",
   "metadata": {},
   "source": [
    "## Step 7: Review cleaned data"
   ]
  },
  {
   "cell_type": "code",
   "execution_count": 28,
   "id": "50c0a652",
   "metadata": {},
   "outputs": [
    {
     "name": "stdout",
     "output_type": "stream",
     "text": [
      "<class 'pandas.core.frame.DataFrame'>\n",
      "RangeIndex: 3000 entries, 0 to 2999\n",
      "Data columns (total 17 columns):\n",
      " #   Column                      Non-Null Count  Dtype         \n",
      "---  ------                      --------------  -----         \n",
      " 0   EmpID                       3000 non-null   int64         \n",
      " 1   FirstName                   3000 non-null   object        \n",
      " 2   LastName                    3000 non-null   object        \n",
      " 3   StartDate                   3000 non-null   datetime64[ns]\n",
      " 4   ExitDate                    3000 non-null   object        \n",
      " 5   EmployeeStatus              3000 non-null   object        \n",
      " 6   EmployeeType                3000 non-null   object        \n",
      " 7   EmployeeClassificationType  3000 non-null   object        \n",
      " 8   DepartmentType              3000 non-null   object        \n",
      " 9   DOB                         3000 non-null   datetime64[ns]\n",
      " 10  JobFunctionDescription      3000 non-null   object        \n",
      " 11  GenderCode                  3000 non-null   object        \n",
      " 12  Education                   3000 non-null   object        \n",
      " 13  Age                         3000 non-null   int64         \n",
      " 14  Experience                  3000 non-null   int64         \n",
      " 15  Salary                      3000 non-null   int64         \n",
      " 16  Attrition                   3000 non-null   object        \n",
      "dtypes: datetime64[ns](2), int64(4), object(11)\n",
      "memory usage: 398.6+ KB\n",
      "None\n",
      "   EmpID FirstName LastName  StartDate       ExitDate EmployeeStatus  \\\n",
      "0   3427     Uriah  Bridges 2019-09-20  Still Working         Active   \n",
      "1   3428     Paula    Small 2023-02-11  Still Working         Active   \n",
      "2   3429    Edward     Buck 2018-12-10  Still Working         Active   \n",
      "3   3430   Michael  Riordan 2021-06-21  Still Working         Active   \n",
      "4   3431   Jasmine    Onque 2019-06-29  Still Working         Active   \n",
      "\n",
      "  EmployeeType EmployeeClassificationType     DepartmentType        DOB  \\\n",
      "0     Contract                  Temporary  Production        1969-10-07   \n",
      "1     Contract                  Part-Time  Production        1965-08-30   \n",
      "2    Full-Time                  Part-Time              Sales 1991-10-06   \n",
      "3     Contract                  Full-Time              Sales 1998-04-04   \n",
      "4     Contract                  Temporary              Sales 1969-08-29   \n",
      "\n",
      "  JobFunctionDescription GenderCode    Education  Age  Experience  Salary  \\\n",
      "0             Accounting     Female  High School   55           5   33500   \n",
      "1                  Labor       Male     Master's   59           2   37500   \n",
      "2              Assistant       Male  High School   33           6   32000   \n",
      "3                  Clerk       Male     Master's   27           4   45000   \n",
      "4                Laborer     Female     Master's   55           6   49500   \n",
      "\n",
      "  Attrition  \n",
      "0        No  \n",
      "1        No  \n",
      "2        No  \n",
      "3        No  \n",
      "4        No  \n"
     ]
    }
   ],
   "source": [
    "print(df.info())\n",
    "print(df.head())"
   ]
  },
  {
   "cell_type": "markdown",
   "id": "363b16a1",
   "metadata": {},
   "source": [
    "## Step 8: Save cleaned data"
   ]
  },
  {
   "cell_type": "code",
   "execution_count": 29,
   "id": "82a05bde",
   "metadata": {},
   "outputs": [],
   "source": [
    "df.to_csv('cleaned_hr_data.csv', index=False)"
   ]
  }
 ],
 "metadata": {
  "kernelspec": {
   "display_name": "Python 3 (ipykernel)",
   "language": "python",
   "name": "python3"
  },
  "language_info": {
   "codemirror_mode": {
    "name": "ipython",
    "version": 3
   },
   "file_extension": ".py",
   "mimetype": "text/x-python",
   "name": "python",
   "nbconvert_exporter": "python",
   "pygments_lexer": "ipython3",
   "version": "3.12.4"
  }
 },
 "nbformat": 4,
 "nbformat_minor": 5
}
